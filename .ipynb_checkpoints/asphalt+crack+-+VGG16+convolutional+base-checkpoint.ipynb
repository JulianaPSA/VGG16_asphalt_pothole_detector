{
 "cells": [
  {
   "cell_type": "code",
   "execution_count": 1,
   "metadata": {
    "pycharm": {
     "is_executing": false,
     "name": "#%%\n"
    }
   },
   "outputs": [
    {
     "ename": "ModuleNotFoundError",
     "evalue": "No module named 'keras'",
     "output_type": "error",
     "traceback": [
      "\u001b[0;31m---------------------------------------------------------------------------\u001b[0m",
      "\u001b[0;31mModuleNotFoundError\u001b[0m                       Traceback (most recent call last)",
      "\u001b[0;32m<ipython-input-1-172189aab9a1>\u001b[0m in \u001b[0;36m<module>\u001b[0;34m\u001b[0m\n\u001b[1;32m      9\u001b[0m \u001b[0;34m\u001b[0m\u001b[0m\n\u001b[1;32m     10\u001b[0m \u001b[0;34m\u001b[0m\u001b[0m\n\u001b[0;32m---> 11\u001b[0;31m \u001b[0;32mfrom\u001b[0m \u001b[0mkeras\u001b[0m\u001b[0;34m.\u001b[0m\u001b[0mapplications\u001b[0m \u001b[0;32mimport\u001b[0m \u001b[0mVGG16\u001b[0m\u001b[0;34m\u001b[0m\u001b[0;34m\u001b[0m\u001b[0m\n\u001b[0m\u001b[1;32m     12\u001b[0m \u001b[0;34m\u001b[0m\u001b[0m\n\u001b[1;32m     13\u001b[0m conv_base = VGG16(weights='imagenet', \n",
      "\u001b[0;31mModuleNotFoundError\u001b[0m: No module named 'keras'"
     ]
    }
   ],
   "source": [
    "        ## Classifier with a pretrained CNN for feature extraction from \"Deep Learning with Python\" ##\n",
    "\n",
    "\n",
    "# coding: utf-8\n",
    "\n",
    "# #### Instantiating the VGG16 convolutional base\n",
    "\n",
    "# In[3]:\n",
    "\n",
    "\n",
    "from keras.applications import VGG16\n",
    "\n",
    "conv_base = VGG16(weights='imagenet', \n",
    "                  include_top=False,  # Because you intend to use your own densely connected classifier, \n",
    "                                      # you don’t need to include it.\n",
    "                  input_shape=(150, 150, 3)) #if you don’t pass it, the network will be able to process inputs of any size\n",
    "conv_base.summary()\n",
    "\n",
    "\n",
    "# #### Extracting features using the pretrained convolutional base\n",
    "\n",
    "# In[4]:\n",
    "\n",
    "\n",
    "import os\n",
    "import numpy as np\n",
    "\n",
    "from keras.preprocessing.image import ImageDataGenerator\n",
    "\n",
    "base_dir = './dataset'\n",
    "train_dir = os.path.join(base_dir, 'train')\n",
    "validation_dir = os.path.join(base_dir, 'validation')\n",
    "test_dir = os.path.join(base_dir, 'test')\n",
    "\n",
    "datagen = ImageDataGenerator(rescale=1./255)\n",
    "batch_size = 20\n",
    "\n",
    "def extract_features(directory, sample_count):\n",
    "    features = np.zeros(shape=(sample_count, 4, 4, 512))\n",
    "    labels = np.zeros(shape=sample_count)\n",
    "    generator = datagen.flow_from_directory(directory,target_size=(150, 150),batch_size=batch_size,class_mode='binary', shuffle=False)\n",
    "    i = 0\n",
    "    for inputs_batch, labels_batch in generator:\n",
    "                features_batch = conv_base.predict(inputs_batch)\n",
    "                features[i * batch_size : (i + 1) * batch_size] = features_batch\n",
    "                labels[i * batch_size : (i + 1) * batch_size] = labels_batch\n",
    "                i += 1\n",
    "                if i * batch_size >= sample_count:\n",
    "                    break\n",
    "    return features, labels\n",
    "\n",
    "train_features, train_labels = extract_features(train_dir, 215)#264)\n",
    "validation_features, validation_labels = extract_features(validation_dir, 108)#132)\n",
    "test_features, test_labels = extract_features(test_dir, 106)#132)\n",
    "\n",
    "# In[5]:\n",
    "\n",
    "\n",
    "train_features = np.reshape(train_features, (215, 4 * 4 * 512))\n",
    "validation_features = np.reshape(validation_features, (108, 4 * 4 * 512))\n",
    "test_features = np.reshape(test_features, (106, 4 * 4 * 512))\n",
    "\n",
    "\n",
    "# In[8]:\n",
    "from keras import models\n",
    "from keras import layers\n",
    "from keras import optimizers\n",
    "\n",
    "\n",
    "model = models.Sequential()\n",
    "model.add(layers.Dense(256, activation='relu', input_dim=4 * 4 * 512))\n",
    "model.add(layers.Dropout(0.5))\n",
    "model.add(layers.Dense(1, activation='sigmoid'))\n",
    "\n",
    "model.compile(optimizer=optimizers.RMSprop(lr=2e-5),\n",
    "              loss='binary_crossentropy',\n",
    "              metrics=['acc'])\n",
    "\n",
    "history = model.fit(train_features, train_labels,\n",
    "                    epochs=30,\n",
    "                    batch_size=20,\n",
    "                    validation_data=(validation_features, validation_labels))\n",
    "test_loss, test_acc = model.evaluate(test_features, test_labels)"
   ]
  },
  {
   "cell_type": "code",
   "execution_count": null,
   "metadata": {
    "pycharm": {
     "is_executing": false,
     "name": "#%%\n"
    }
   },
   "outputs": [],
   "source": [
    "for (x, y) in zip(test_features, test_labels):    \n",
    "    output = model.predict(x.reshape(1,-1))\n",
    "    print('\\tdesejado: %d\\tcalculado: %d'%(y, output[0][0]>0.5))"
   ]
  },
  {
   "cell_type": "code",
   "execution_count": null,
   "metadata": {
    "pycharm": {
     "is_executing": false,
     "name": "#%%    \n"
    }
   },
   "outputs": [],
   "source": [
    "output = model.predict(test_features)\n",
    "b_index = [print(ind) for ind, t, y in zip(range(106), test_labels, np.round(output)) if t != y]\n",
    "print('error: %d of %d (%1.4f)'%(len(b_index), len(test_labels), len(b_index)/len(test_labels)))"
   ]
  },
  {
   "cell_type": "code",
   "execution_count": null,
   "metadata": {
    "pycharm": {
     "is_executing": false,
     "name": "#%%\n"
    }
   },
   "outputs": [],
   "source": [
    "import matplotlib.pyplot as plt\n",
    "print(len(test_features[0]))\n",
    "plt.imshow(test_features[0])\n",
    "plt.show()"
   ]
  },
  {
   "cell_type": "code",
   "execution_count": null,
   "metadata": {
    "pycharm": {
     "is_executing": false,
     "name": "#%%\n"
    }
   },
   "outputs": [],
   "source": [
    "# In[9]:\n",
    "import matplotlib.pyplot as plt\n",
    "\n",
    "acc = history.history['acc']\n",
    "val_acc = history.history['val_acc']\n",
    "loss = history.history['loss']\n",
    "val_loss = history.history['val_loss']\n",
    "\n",
    "epochs = range(1, len(acc) + 1)\n",
    "\n",
    "plt.plot(epochs, acc, 'bo', label='Training acc')\n",
    "plt.plot(epochs, val_acc, 'b', label='Validation acc')\n",
    "plt.title('Training and validation accuracy')\n",
    "plt.xlabel('Epochs')\n",
    "plt.grid(True)\n",
    "plt.legend(['Training acc','Validation acc'],loc = 4)\n",
    "fig = plt.gcf()\n",
    "plt.show()\n",
    "fig.savefig('acc.png', format='png')\n",
    "\n",
    "\n",
    "plt.plot(epochs, loss, 'bo', label='Training loss')\n",
    "plt.plot(epochs, val_loss, 'b', label='Validation loss')\n",
    "plt.title('Training and validation loss')\n",
    "plt.xlabel('Epochs')\n",
    "plt.grid(True)\n",
    "plt.legend()\n",
    "fig = plt.gcf()\n",
    "plt.show()\n",
    "fig.savefig('loss.png', format='png')\n",
    "\n",
    "print(\"--- accuracy mean ---\")\n",
    "print(\"train:\"+str(np.mean(acc)))\n",
    "print(\"validation:\"+str(np.mean(val_acc)))\n",
    "print()\n",
    "print(\"test accuracy: \"+str(test_acc))\n"
   ]
  }
 ],
 "metadata": {
  "kernelspec": {
   "display_name": "Python 3",
   "language": "python",
   "name": "python3"
  },
  "language_info": {
   "codemirror_mode": {
    "name": "ipython",
    "version": 3
   },
   "file_extension": ".py",
   "mimetype": "text/x-python",
   "name": "python",
   "nbconvert_exporter": "python",
   "pygments_lexer": "ipython3",
   "version": "3.7.3"
  },
  "pycharm": {
   "stem_cell": {
    "cell_type": "raw",
    "metadata": {
     "collapsed": false
    },
    "source": []
   }
  }
 },
 "nbformat": 4,
 "nbformat_minor": 2
}
