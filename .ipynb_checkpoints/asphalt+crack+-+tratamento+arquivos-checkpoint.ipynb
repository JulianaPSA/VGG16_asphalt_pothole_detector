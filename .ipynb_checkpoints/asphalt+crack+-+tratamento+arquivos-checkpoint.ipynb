{
 "cells": [
  {
   "cell_type": "code",
   "execution_count": 1,
   "metadata": {
    "pycharm": {
     "is_executing": false
    }
   },
   "outputs": [],
   "source": [
    "# coding: utf-8\n",
    "\n",
    "# In[3]:\n",
    "import os, shutil, random, numpy as np\n",
    "\n",
    "#original_dataset_dir_cracks = '/home/juliana/Documents/UFC/deepLearning/src/asphalt/asphalt-crack-dataset_separeted/cracks'\n",
    "original_dataset_dir_cracks = './dataset/crack'\n",
    "original_dataset_dir_noncracks = './dataset/non-crack'\n",
    "base_dir = './dataset'\n",
    "\n",
    "train_dir = os.path.join(base_dir,'train')\n",
    "validation_dir = os.path.join(base_dir,'validation')\n",
    "test_dir = os.path.join(base_dir,'test')\n",
    "\n",
    "train_cracks_dir = os.path.join(train_dir,'cracks')\n",
    "validation_cracks_dir = os.path.join(validation_dir,'cracks')\n",
    "test_cracks_dir = os.path.join(test_dir,'cracks')\n",
    "\n",
    "train_noncracks_dir = os.path.join(train_dir,'non-cracks')\n",
    "validation_noncracks_dir = os.path.join(validation_dir,'non-cracks')\n",
    "test_noncracks_dir = os.path.join(test_dir,'non-cracks')"
   ]
  },
  {
   "cell_type": "code",
   "execution_count": 2,
   "metadata": {
    "pycharm": {
     "is_executing": false,
     "name": "#%%\n"
    }
   },
   "outputs": [],
   "source": [
    "def mk_empty_dir(path):\n",
    "    try:\n",
    "        os.mkdir(path)\n",
    "    except:\n",
    "        files = [file for file in os.listdir(path) if os.path.isfile(os.path.join(path, file))]\n",
    "        dirs = [dir for dir in os.listdir(path) if os.path.isdir(os.path.join(path, dir))]\n",
    "        [os.remove(os.path.join(path, f)) for f in files]\n",
    "        [shutil.rmtree(os.path.join(path, d)) for d in dirs]"
   ]
  },
  {
   "cell_type": "code",
   "execution_count": 3,
   "metadata": {
    "pycharm": {
     "is_executing": false,
     "name": "#%%\n"
    }
   },
   "outputs": [],
   "source": [
    "mk_empty_dir(train_dir)\n",
    "mk_empty_dir(validation_dir)\n",
    "mk_empty_dir(test_dir)\n",
    "\n",
    "mk_empty_dir(train_cracks_dir)\n",
    "mk_empty_dir(validation_cracks_dir)\n",
    "mk_empty_dir(test_cracks_dir)\n",
    "\n",
    "mk_empty_dir(train_noncracks_dir)\n",
    "mk_empty_dir(validation_noncracks_dir)\n",
    "mk_empty_dir(test_noncracks_dir)\n"
   ]
  },
  {
   "cell_type": "code",
   "execution_count": 4,
   "metadata": {
    "pycharm": {
     "is_executing": false,
     "name": "#%%\n"
    }
   },
   "outputs": [],
   "source": [
    "l_crack = os.listdir(original_dataset_dir_cracks)\n",
    "random.shuffle(l_crack)\n",
    "n_cracks = len(l_crack)\n",
    "l_noncrack = os.listdir(original_dataset_dir_noncracks)\n",
    "random.shuffle(l_noncrack)\n",
    "n_noncracks = len(l_noncrack)\n",
    "\n",
    "def copyAsphaltImages(l,src_directory,new_directory):\n",
    "    for name in l:\n",
    "        src = os.path.join(src_directory, name)\n",
    "        dst = os.path.join(new_directory, name)\n",
    "        shutil.copyfile(src,dst)\n",
    "        \n",
    "def split_crack_images(from_id,to_id,dir):\n",
    "    images = l_crack[from_id:to_id]\n",
    "    copyAsphaltImages(images,original_dataset_dir_cracks,dir)\n",
    "    \n",
    "def split_noncrack_images(from_id,to_id,dir):\n",
    "    images = l_noncrack[from_id:to_id]\n",
    "    copyAsphaltImages(images,original_dataset_dir_noncracks,dir)\n"
   ]
  },
  {
   "cell_type": "code",
   "execution_count": 5,
   "metadata": {
    "pycharm": {
     "is_executing": false,
     "name": "#%%\n"
    }
   },
   "outputs": [],
   "source": [
    "train_perc = 0.5\n",
    "valid_perc = 0.25\n",
    "\n",
    "n_train_cracks = round(train_perc*n_cracks)\n",
    "n_valid_cracks = round(valid_perc*n_cracks)\n",
    "n_train_noncracks = round(train_perc*n_noncracks)\n",
    "n_valid_noncracks = round(valid_perc*n_noncracks)\n",
    "\n",
    "n_train = n_train_cracks+n_train_noncracks\n",
    "n_valid = n_valid_cracks+n_valid_noncracks\n",
    "n_test  = n_cracks+n_noncracks-n_train-n_valid\n",
    "\n",
    "split_crack_images(0,n_train_cracks,train_cracks_dir)\n",
    "split_crack_images(n_train_cracks,n_train_cracks+n_valid_cracks,validation_cracks_dir)\n",
    "split_crack_images(n_train_cracks+n_valid_cracks,n_cracks,test_cracks_dir)           \n",
    "\n",
    "split_noncrack_images(0,n_train_noncracks,train_noncracks_dir)\n",
    "split_noncrack_images(n_train_noncracks,n_train_noncracks+n_valid_noncracks,validation_noncracks_dir)\n",
    "split_noncrack_images(n_train_noncracks+n_valid_noncracks,n_noncracks,test_noncracks_dir)\n"
   ]
  }
 ],
 "metadata": {
  "kernelspec": {
   "display_name": "Python 3",
   "language": "python",
   "name": "python3"
  },
  "language_info": {
   "codemirror_mode": {
    "name": "ipython",
    "version": 3
   },
   "file_extension": ".py",
   "mimetype": "text/x-python",
   "name": "python",
   "nbconvert_exporter": "python",
   "pygments_lexer": "ipython3",
   "version": "3.7.3"
  },
  "pycharm": {
   "stem_cell": {
    "cell_type": "raw",
    "metadata": {
     "collapsed": false
    },
    "source": []
   }
  }
 },
 "nbformat": 4,
 "nbformat_minor": 2
}
